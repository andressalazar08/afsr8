{
 "cells": [
  {
   "cell_type": "code",
   "execution_count": 1,
   "metadata": {
    "collapsed": true
   },
   "outputs": [
    {
     "ename": "KeyboardInterrupt",
     "evalue": "Interrupted by user",
     "output_type": "error",
     "traceback": [
      "\u001b[1;31m---------------------------------------------------------------------------\u001b[0m",
      "\u001b[1;31mKeyboardInterrupt\u001b[0m                         Traceback (most recent call last)",
      "\u001b[1;32m<ipython-input-1-dcc4c00bf86d>\u001b[0m in \u001b[0;36m<module>\u001b[1;34m\u001b[0m\n\u001b[0;32m      1\u001b[0m \u001b[1;31m#5 de mayo\u001b[0m\u001b[1;33m\u001b[0m\u001b[1;33m\u001b[0m\u001b[1;33m\u001b[0m\u001b[0m\n\u001b[0;32m      2\u001b[0m \u001b[1;31m#edad=int(input())\u001b[0m\u001b[1;33m\u001b[0m\u001b[1;33m\u001b[0m\u001b[1;33m\u001b[0m\u001b[0m\n\u001b[1;32m----> 3\u001b[1;33m \u001b[0medad\u001b[0m\u001b[1;33m=\u001b[0m\u001b[0mint\u001b[0m\u001b[1;33m(\u001b[0m\u001b[0minput\u001b[0m\u001b[1;33m(\u001b[0m\u001b[1;33m)\u001b[0m\u001b[1;33m)\u001b[0m \u001b[1;31m#asi debe resolverse el ejercicio, entra entero, sale float\u001b[0m\u001b[1;33m\u001b[0m\u001b[1;33m\u001b[0m\u001b[0m\n\u001b[0m\u001b[0;32m      4\u001b[0m \u001b[0mtiempo\u001b[0m\u001b[1;33m=\u001b[0m\u001b[0mfloat\u001b[0m\u001b[1;33m(\u001b[0m\u001b[0medad\u001b[0m\u001b[1;33m*\u001b[0m\u001b[1;36m365\u001b[0m\u001b[1;33m*\u001b[0m\u001b[1;36m24\u001b[0m\u001b[1;33m*\u001b[0m\u001b[1;36m60\u001b[0m\u001b[1;33m*\u001b[0m\u001b[1;36m60\u001b[0m\u001b[1;33m)\u001b[0m\u001b[1;33m\u001b[0m\u001b[1;33m\u001b[0m\u001b[0m\n\u001b[0;32m      5\u001b[0m \u001b[0mprint\u001b[0m\u001b[1;33m(\u001b[0m\u001b[0medad\u001b[0m\u001b[1;33m)\u001b[0m\u001b[1;33m\u001b[0m\u001b[1;33m\u001b[0m\u001b[0m\n",
      "\u001b[1;32m~\\anaconda3\\lib\\site-packages\\ipykernel\\kernelbase.py\u001b[0m in \u001b[0;36mraw_input\u001b[1;34m(self, prompt)\u001b[0m\n\u001b[0;32m    858\u001b[0m                 \u001b[1;34m\"raw_input was called, but this frontend does not support input requests.\"\u001b[0m\u001b[1;33m\u001b[0m\u001b[1;33m\u001b[0m\u001b[0m\n\u001b[0;32m    859\u001b[0m             )\n\u001b[1;32m--> 860\u001b[1;33m         return self._input_request(str(prompt),\n\u001b[0m\u001b[0;32m    861\u001b[0m             \u001b[0mself\u001b[0m\u001b[1;33m.\u001b[0m\u001b[0m_parent_ident\u001b[0m\u001b[1;33m,\u001b[0m\u001b[1;33m\u001b[0m\u001b[1;33m\u001b[0m\u001b[0m\n\u001b[0;32m    862\u001b[0m             \u001b[0mself\u001b[0m\u001b[1;33m.\u001b[0m\u001b[0m_parent_header\u001b[0m\u001b[1;33m,\u001b[0m\u001b[1;33m\u001b[0m\u001b[1;33m\u001b[0m\u001b[0m\n",
      "\u001b[1;32m~\\anaconda3\\lib\\site-packages\\ipykernel\\kernelbase.py\u001b[0m in \u001b[0;36m_input_request\u001b[1;34m(self, prompt, ident, parent, password)\u001b[0m\n\u001b[0;32m    902\u001b[0m             \u001b[1;32mexcept\u001b[0m \u001b[0mKeyboardInterrupt\u001b[0m\u001b[1;33m:\u001b[0m\u001b[1;33m\u001b[0m\u001b[1;33m\u001b[0m\u001b[0m\n\u001b[0;32m    903\u001b[0m                 \u001b[1;31m# re-raise KeyboardInterrupt, to truncate traceback\u001b[0m\u001b[1;33m\u001b[0m\u001b[1;33m\u001b[0m\u001b[1;33m\u001b[0m\u001b[0m\n\u001b[1;32m--> 904\u001b[1;33m                 \u001b[1;32mraise\u001b[0m \u001b[0mKeyboardInterrupt\u001b[0m\u001b[1;33m(\u001b[0m\u001b[1;34m\"Interrupted by user\"\u001b[0m\u001b[1;33m)\u001b[0m \u001b[1;32mfrom\u001b[0m \u001b[1;32mNone\u001b[0m\u001b[1;33m\u001b[0m\u001b[1;33m\u001b[0m\u001b[0m\n\u001b[0m\u001b[0;32m    905\u001b[0m             \u001b[1;32mexcept\u001b[0m \u001b[0mException\u001b[0m \u001b[1;32mas\u001b[0m \u001b[0me\u001b[0m\u001b[1;33m:\u001b[0m\u001b[1;33m\u001b[0m\u001b[1;33m\u001b[0m\u001b[0m\n\u001b[0;32m    906\u001b[0m                 \u001b[0mself\u001b[0m\u001b[1;33m.\u001b[0m\u001b[0mlog\u001b[0m\u001b[1;33m.\u001b[0m\u001b[0mwarning\u001b[0m\u001b[1;33m(\u001b[0m\u001b[1;34m\"Invalid Message:\"\u001b[0m\u001b[1;33m,\u001b[0m \u001b[0mexc_info\u001b[0m\u001b[1;33m=\u001b[0m\u001b[1;32mTrue\u001b[0m\u001b[1;33m)\u001b[0m\u001b[1;33m\u001b[0m\u001b[1;33m\u001b[0m\u001b[0m\n",
      "\u001b[1;31mKeyboardInterrupt\u001b[0m: Interrupted by user"
     ]
    }
   ],
   "source": [
    "#5 de mayo\n",
    "#edad=int(input())\n",
    "edad=int(input()) #asi debe resolverse el ejercicio, entra entero, sale float\n",
    "tiempo=float(edad*365*24*60*60)\n",
    "print(edad)\n",
    "print(tiempo)\n"
   ]
  },
  {
   "cell_type": "code",
   "execution_count": null,
   "metadata": {},
   "outputs": [],
   "source": [
    "#Solución del ejercicio caso 1\n",
    "salario=int(input())\n",
    "alimentos=0.2*salario\n",
    "pasajes=0.15*salario\n",
    "boletos=0.1*salario\n",
    "libros=0.15*salario\n",
    "saldo=(salario-alimentos-pasajes-boletos-libros)\n",
    "print(saldo)"
   ]
  },
  {
   "cell_type": "code",
   "execution_count": null,
   "metadata": {},
   "outputs": [],
   "source": [
    "#Solución del ejercicio caso 1 del profe\n",
    "#1000000 2000000 3000000\n",
    "x=int(input())\n",
    "print(x*0.4)"
   ]
  },
  {
   "cell_type": "code",
   "execution_count": null,
   "metadata": {},
   "outputs": [],
   "source": [
    "import math\n",
    "x=1\n",
    "print(math.cos((x)))"
   ]
  },
  {
   "cell_type": "code",
   "execution_count": null,
   "metadata": {},
   "outputs": [],
   "source": [
    "'''\n",
    "Utilizando la librería math proponga un algoritmo que a partir de una hipotenusa expresada en metros\n",
    "y un cateto en centimetros me presente la solución del cateto opuesto en metros.\n",
    "La salida corresponde a dos valores, la primera redondeando a dos decimales \n",
    "y la segunda sin redondear a dos decimales pero mostrando dos decimales\n",
    "'''\n",
    "#debo invocar las librerías que uso\n",
    "import math\n",
    "hipotenusa=float(input('Ingrese la hipotenusa en metros: ')) #en metros\n",
    "cateto_1=float(input('Ingrese el cateto 1 en centimetros: ')) # en centimetros\n",
    "cateto_2=math.sqrt(math.pow(hipotenusa,2)-math.pow((cateto_1/100),2))\n",
    "cateto_2_1=round(cateto_2,2)\n",
    "#del segundo cateto necesito que me quede en 2 decimales sin redondear\n",
    "#lo dejo después como entero\n",
    "cateto_2=cateto_2*100\n",
    "#al dividirlo entre 100 me queda bien\n",
    "cateto_2=int(cateto_2)/100\n",
    "print(cateto_2_1)\n",
    "print(cateto_2)"
   ]
  },
  {
   "cell_type": "code",
   "execution_count": null,
   "metadata": {},
   "outputs": [],
   "source": [
    "#caso 1\n",
    "3\n",
    "70\n",
    "2.92\n",
    "2.91\n",
    "#caso 2\n",
    "6\n",
    "140\n",
    "5.83\n",
    "5.83"
   ]
  },
  {
   "cell_type": "code",
   "execution_count": null,
   "metadata": {},
   "outputs": [],
   "source": [
    "math.sqrt(51)"
   ]
  },
  {
   "cell_type": "code",
   "execution_count": null,
   "metadata": {},
   "outputs": [],
   "source": [
    "x=0.07*0.07"
   ]
  },
  {
   "cell_type": "code",
   "execution_count": null,
   "metadata": {},
   "outputs": [],
   "source": [
    "x"
   ]
  },
  {
   "cell_type": "code",
   "execution_count": null,
   "metadata": {},
   "outputs": [],
   "source": [
    "y=100-0.0049\n",
    "y"
   ]
  },
  {
   "cell_type": "code",
   "execution_count": null,
   "metadata": {},
   "outputs": [],
   "source": [
    "math.sqrt(y)"
   ]
  },
  {
   "cell_type": "markdown",
   "metadata": {},
   "source": [
    "# 7 de mayo 2021"
   ]
  },
  {
   "cell_type": "code",
   "execution_count": null,
   "metadata": {},
   "outputs": [],
   "source": [
    "x=3.5\n",
    "y=x**2\n",
    "print(y)\n",
    "print(type(y))"
   ]
  },
  {
   "cell_type": "code",
   "execution_count": null,
   "metadata": {},
   "outputs": [],
   "source": [
    "#tipo de dato\n",
    "#conjuntos {} va entre llaves\n",
    "#son una colección de datos sin elementos que se repitan\n",
    "conjuntoa={'andrés','andrés','yeny','diana'}\n",
    "print(conjuntoa)"
   ]
  },
  {
   "cell_type": "code",
   "execution_count": null,
   "metadata": {},
   "outputs": [],
   "source": [
    "#10 de mayo de 2021\n",
    "# actividad de repaso\n",
    "'''\n",
    "Genere una función que permita obtener el módulo de la división de dos variables:\n",
    "'''\n",
    "#módulo de la división entre dos valores\n",
    "\n",
    "#print(7%2)\n",
    "x=int(input())\n",
    "y=int(input())\n",
    "\n",
    "\n",
    "def mifuncion(x,y):\n",
    "    resultado=x%y\n",
    "    return resultado\n",
    "print(mifuncion(x,y))"
   ]
  },
  {
   "cell_type": "code",
   "execution_count": null,
   "metadata": {},
   "outputs": [],
   "source": [
    "print(3%2)\n",
    "print(10%3)"
   ]
  },
  {
   "cell_type": "code",
   "execution_count": 8,
   "metadata": {},
   "outputs": [],
   "source": [
    "número = 12"
   ]
  },
  {
   "cell_type": "code",
   "execution_count": 9,
   "metadata": {},
   "outputs": [
    {
     "data": {
      "text/plain": [
       "12"
      ]
     },
     "execution_count": 9,
     "metadata": {},
     "output_type": "execute_result"
    }
   ],
   "source": [
    "número"
   ]
  },
  {
   "cell_type": "markdown",
   "metadata": {},
   "source": [
    "# 10 de Mayo de 2021\n",
    "## Uso de estructuras condicionales"
   ]
  },
  {
   "cell_type": "code",
   "execution_count": 2,
   "metadata": {},
   "outputs": [
    {
     "data": {
      "image/jpeg": "[encoded data removed]",
      "text/plain": [
       "<IPython.core.display.Image object>"
      ]
     },
     "execution_count": 2,
     "metadata": {},
     "output_type": "execute_result"
    }
   ],
   "source": [
    "from IPython import display\n",
    "display.Image(\"./cuadratica.jpg\")"
   ]
  },
  {
   "cell_type": "code",
   "execution_count": 3,
   "metadata": {},
   "outputs": [
    {
     "name": "stdout",
     "output_type": "stream",
     "text": [
      "2\n",
      "3\n",
      "4\n",
      "No se puede calcular, muchas gracias\n"
     ]
    }
   ],
   "source": [
    "#validación\n",
    "#a=-2\n",
    "#b=-4\n",
    "#c=10\n",
    "#Ejercicio en clase de la función cuadrática\n",
    "#1.4494897427831779\n",
    "#-3.449489742783178\n",
    "import math\n",
    "a=float(input())\n",
    "if a==0:\n",
    "    print(\"No se puede calcular, muchas gracias\")\n",
    "else:\n",
    "    b=float(input())\n",
    "    c=float(input())\n",
    "    if 4*a*c>math.pow(b,2):\n",
    "        print(\"No se puede calcular, muchas gracias\")\n",
    "    else:\n",
    "        x_min=((-b-math.sqrt(math.pow(b,2)-4*a*c))/(2*a))\n",
    "        x_max=((-b+math.sqrt(math.pow(b,2)-4*a*c))/(2*a))\n",
    "        print(x_min)\n",
    "        print(x_max)"
   ]
  },
  {
   "cell_type": "code",
   "execution_count": 20,
   "metadata": {},
   "outputs": [
    {
     "name": "stdout",
     "output_type": "stream",
     "text": [
      "-2\n",
      "-4\n",
      "10\n",
      "1.4494897427831779\n",
      "-3.449489742783178\n"
     ]
    }
   ],
   "source": [
    "#Opción 2 Uso del Or\n",
    "#validación\n",
    "#a=-2\n",
    "#b=-4\n",
    "#c=10\n",
    "\n",
    "a=float(input())\n",
    "b=float(input())\n",
    "c=float(input())\n",
    "#uso de la estructura condicional Or\n",
    "if a==0 or 4*a*c>math.pow(b,2):\n",
    "    print(\"No se puede calcular, muchas gracias\")\n",
    "else:\n",
    "    x_min=((-b-math.sqrt(math.pow(b,2)-4*a*c))/(2*a))\n",
    "    x_max=((-b+math.sqrt(math.pow(b,2)-4*a*c))/(2*a))\n",
    "    print(x_min)\n",
    "    print(x_max)\n"
   ]
  },
  {
   "cell_type": "code",
   "execution_count": 26,
   "metadata": {},
   "outputs": [
    {
     "name": "stdout",
     "output_type": "stream",
     "text": [
      "Introduzca el número50\n",
      "Usted no escribió el 100\n"
     ]
    }
   ],
   "source": [
    "num=input(\"Introduzca el número\")\n",
    "if num==100:\n",
    "    print(\"Usted escribió el 100\")\n",
    "else:\n",
    "    print('Usted no escribió el 100')"
   ]
  },
  {
   "cell_type": "code",
   "execution_count": 26,
   "metadata": {},
   "outputs": [
    {
     "data": {
      "text/plain": [
       "0.0"
      ]
     },
     "execution_count": 26,
     "metadata": {},
     "output_type": "execute_result"
    }
   ],
   "source": [
    "math.sqrt(0)"
   ]
  },
  {
   "cell_type": "markdown",
   "metadata": {},
   "source": [
    "# 11 de Mayo de 2021"
   ]
  },
  {
   "cell_type": "code",
   "execution_count": 8,
   "metadata": {},
   "outputs": [
    {
     "name": "stdout",
     "output_type": "stream",
     "text": [
      "130\n",
      "Usted escribió un número mayor a 100\n"
     ]
    }
   ],
   "source": [
    "numero=int(input())\n",
    "if numero==100:\n",
    "    print(\"Usted escribió el 100\")\n",
    "elif numero>100:\n",
    "    print(\"Usted escribió un número mayor a 100\")\n",
    "else:\n",
    "    print(\"el número es menor a 100\")"
   ]
  },
  {
   "cell_type": "code",
   "execution_count": 17,
   "metadata": {},
   "outputs": [
    {
     "name": "stdout",
     "output_type": "stream",
     "text": [
      "4\n",
      "3\n",
      "-5\n",
      "Alguna de tus medidas es incorrecta\n"
     ]
    }
   ],
   "source": [
    "# Elabore un algoritmo que a partir de 3 lados de un triangulo determine si es isoceles, equilatero o escaleno\n",
    "# 2 de 3 Isoceles\n",
    "# 3=3 equilatero\n",
    "# != Escaleno\n",
    "# Ingreso de datos\n",
    "\n",
    "a=float(input())\n",
    "b=float(input())\n",
    "c=float(input())\n",
    "\n",
    "if a==b==c:\n",
    "    print(\"Las medidas son de un triangulo equilatero\")\n",
    "elif a==b and b!=c:\n",
    "    print(\"Las medidas son de un triangulo Isoceles\")\n",
    "elif a==c and b!=a:\n",
    "    print(\"Las medidas son de un triangulo Isoceles\")\n",
    "elif a<=0 or b<=0 or c<=0:\n",
    "    print(\"Alguna de tus medidas es incorrecta\")\n",
    "else:\n",
    "    print(\"Las medidas son de un triangulo escaleno\")"
   ]
  },
  {
   "cell_type": "code",
   "execution_count": 18,
   "metadata": {
    "collapsed": true
   },
   "outputs": [
    {
     "data": {
      "text/plain": [
       "'\\nComúnmente se dice que un año humano equivale a 7 años perro. Sin embargo,\\nesta simple conversión no reconoce que los perros alcanzan la edad adulta en aproximadamente dos años. \\nComo resultado, algunas personas creen que es mejor contar cada uno de los dos primeros\\naños humanos como 10,5 años caninos, y luego contar cada año humano adicional como 4 años caninos.\\n\\nEscriba un programa que implemente la conversión de años humanos a años caninos descrita en el párrafo anterior. \\nAsegúrese de que su programa funcione correctamente para conversiones de menos de dos años humanos y para conversiones\\nde dos o más años humanos. Su programa debería mostrar un mensaje de error apropiado si el usuario ingresa un número negativo.\\n'"
      ]
     },
     "execution_count": 18,
     "metadata": {},
     "output_type": "execute_result"
    }
   ],
   "source": [
    "#auto reto 1 con respuesta en el libro N0.38 \"Nombre del mes a número de días\"\n",
    "'''\n",
    "La duración de un mes varía de 28 a 31 días. En este ejercicio, se solicita crear un programa que lea el nombre de un mes\n",
    "del usuario como una cadena. Luego, su programa debería mostrar el número de días de ese mes.\n",
    "Muestre “28 o 29 días” para febrero para que se aborden los años bisiestos.\n",
    "'''\n",
    "#auto reto 2 sin respuesta en el libro No.35 \"Años perrunos\"\n",
    "'''\n",
    "Comúnmente se dice que un \"año-humano\" equivale a 7 \"años-perro\". Sin embargo, esta simple conversión no reconoce \n",
    "que los perros alcanzan la edad adulta en aproximadamente dos años. \n",
    "Como resultado, algunas personas creen que es mejor contar cada uno de los dos primeros\n",
    "\"años-humanos\" como 10.5 \"años-caninos\", y luego contar cada año humano adicional como 4 \"años-caninos\".\n",
    "\n",
    "Escriba un programa que implemente la conversión de \"años-humanos\" a \"años-caninos\" descrita en el párrafo anterior. \n",
    "Asegúrese de que su programa funcione correctamente para conversiones de menos de dos \"años-humanos\" y para conversiones\n",
    "de dos o más \"años-humanos\". Su programa debería mostrar un mensaje de error apropiado si el usuario ingresa un número negativo.\n",
    "'''\n"
   ]
  },
  {
   "cell_type": "code",
   "execution_count": 189,
   "metadata": {},
   "outputs": [
    {
     "ename": "IndentationError",
     "evalue": "unexpected indent (<ipython-input-189-cc738186bd65>, line 24)",
     "output_type": "error",
     "traceback": [
      "\u001b[1;36m  File \u001b[1;32m\"<ipython-input-189-cc738186bd65>\"\u001b[1;36m, line \u001b[1;32m24\u001b[0m\n\u001b[1;33m    primer_corte=float(input())*0.3\u001b[0m\n\u001b[1;37m    ^\u001b[0m\n\u001b[1;31mIndentationError\u001b[0m\u001b[1;31m:\u001b[0m unexpected indent\n"
     ]
    }
   ],
   "source": [
    "#Reto en clase----revisar segunda opción\n",
    "'''\n",
    "Un estudiante de la UIS se encuentra próximo a presentar el último parcial que tiene un porcentaje del 30%\n",
    "y desea saber cuánto necesita mínimo para aprobar la materia sabiendo que se aprueba con 3.0 /5.0\n",
    "lo anterior es posible porque ya conoce la nota del primer corte (30%==), la nota del segundo es (30%==)\n",
    "del tercer corte ya conoce la nota del quiz que corresponde al (5%==) y trabajos (5%==)\n",
    "en dos días debe presentar el parcial que es la última nota.\n",
    "¿Cuánto necesita mínimo?, En algunos casos ya está reprobada la materia\n",
    "y en otros es posible que ya este aprobada\n",
    "'''\n",
    "#Caso1:\n",
    "    #4\n",
    "    #4\n",
    "    #5\n",
    "    #5 \n",
    "    #debe salir 0.3 como nota mínima necesaria para el tercer corte\n",
    "#Caso2:\n",
    "    #0\n",
    "    #0\n",
    "    #0\n",
    "    #0\n",
    "    #debe salir perdio el examen\n",
    "\n",
    "          '''  primer_corte=float(input())*0.3\n",
    "            segundo_corte=float(input())*0.3\n",
    "            quiz=float(input())*0.05\n",
    "            trabajos=float(input())*0.05\n",
    "            acumulado=primer_corte+segundo_corte+quiz+trabajos\n",
    "            ultimo_parcial=(5-(primer_corte+segundo_corte+quiz+trabajos))*0.3\n",
    "\n",
    "            if acumulado>=3:\n",
    "                print(\"Ya aprobó la materia, la lleva en: \" +str(round(acumulado,2)))\n",
    "            elif acumulado<3:\n",
    "                minimo=((3-acumulado))\n",
    "                if minimo>5*0.3:\n",
    "                    print(\"ya reprobó la materia\")\n",
    "                else:\n",
    "                    print(\"el minimo es: \" +str(minimo))\n",
    "                    print(\"El acumulado es :\" + str((acumulado)))\n",
    "                    print(\"Necesita mínimo sacar :\" + str((minimo*3)))\n",
    "'''\n",
    "#---------esta no está bien---------\n"
   ]
  },
  {
   "cell_type": "code",
   "execution_count": 265,
   "metadata": {},
   "outputs": [
    {
     "name": "stdout",
     "output_type": "stream",
     "text": [
      "4.95\n",
      "0\n",
      "0\n",
      "0\n",
      "1.485\n",
      "YA REPROBÓ NECESITARÍA 5.05\n"
     ]
    }
   ],
   "source": [
    "'''\n",
    "Un estudiante de la UIS se encuentra próximo a presentar el último parcial que tiene un porcentaje del 30%\n",
    "y desea saber cuánto necesita mínimo para aprobar la materia sabiendo que se aprueba con 3.0 /5.0\n",
    "lo anterior es posible porque ya conoce la nota del primer corte (30%==), la nota del segundo es (30%==)\n",
    "del tercer corte ya conoce la nota del quiz que corresponde al (5%==) y trabajos (5%==)\n",
    "en dos días debe presentar el parcial que es la última nota. ¿Cuánto necesita mínimo?, \n",
    "En algunos casos ya está reprobada la materia y en otros es posible que ya este aprobada\n",
    "'''\n",
    "#Segundo intento\n",
    "#Caso1:    #4    #4    #5    #5 \n",
    "    #debe salir 0.3 como nota mínima necesaria para el tercer corte\n",
    "#Caso2:    #0    #0    #0    #0\n",
    "    #debe salir perdio el examen\n",
    "    \n",
    "primer_corte=float(input())*0.3\n",
    "segundo_corte=float(input())*0.3\n",
    "quiz=float(input())*0.05\n",
    "trabajos=float(input())*0.05\n",
    "acumulado=primer_corte+segundo_corte+quiz+trabajos\n",
    "\n",
    "if acumulado>=2.95:\n",
    "    #print(\"ya pasó, su nota actual es: \" +str(acumulado))\n",
    "    #print(acumulado)\n",
    "    print(\"YA APROBÓ\")\n",
    "else:\n",
    "    falta=3-acumulado\n",
    "    maxima_nota_posible=5*0.3\n",
    "    if maxima_nota_posible<falta:\n",
    "        print(acumulado)\n",
    "        print(\"YA REPROBÓ NECESITARÍA \" + str(round(falta/0.3,2)))\n",
    "    else:\n",
    "        print(\"MÍNIMO: \"+str(round(((falta)/0.3),1)))\n",
    "        #print(\"Actualmente ha acumulado: \"+ str(round(acumulado,2)))\n",
    "        #print(\"lo que le falta es: \" +str(round(falta,2)))\n",
    "        #print(\"Todavía tiene posibilidades, necesita sacar: \"+str(round(((falta)/0.3),1)))\n",
    "\n",
    "# casos\n",
    "# 4.95 0 0 0 \n",
    "# 4.2 4 5 5\n",
    "# 4.2 3.4 2.3 4\n",
    "# 2.56 4.32 3.56 2.34"
   ]
  },
  {
   "cell_type": "code",
   "execution_count": 231,
   "metadata": {},
   "outputs": [
    {
     "data": {
      "text/plain": [
       "2.9"
      ]
     },
     "execution_count": 231,
     "metadata": {},
     "output_type": "execute_result"
    }
   ],
   "source": [
    "1.2 +1.2 + 0.25 +0.25"
   ]
  },
  {
   "cell_type": "markdown",
   "metadata": {},
   "source": [
    "## AutoReto 1:\n",
    "\n",
    "La duración de un mes varía de 28 a 31 días. En este ejercicio, se solicita crear un programa que lea el nombre de un mes del usuario como una cadena. Luego, su programa debería mostrar el número de días de ese mes. Muestre “28 o 29 días” para febrero para que se aborden los años bisiestos.\n",
    "\n",
    "Meses con 30 días: Abril, Junio, Septiembre y Noviembre.\n",
    "Meses con 31 días: Enero, Marzo, Mayo, Julio, Agosto, Octubre y Diciembre.\n"
   ]
  },
  {
   "cell_type": "code",
   "execution_count": null,
   "metadata": {},
   "outputs": [],
   "source": []
  },
  {
   "cell_type": "code",
   "execution_count": 204,
   "metadata": {},
   "outputs": [
    {
     "name": "stdout",
     "output_type": "stream",
     "text": [
      "junio\n",
      "junio tiene 30 días\n"
     ]
    }
   ],
   "source": [
    "#Primera forma\n",
    "nombre_mes=input().lower()\n",
    "if nombre_mes==\"enero\" or nombre_mes==\"marzo\" or nombre_mes==\"mayo\" or nombre_mes==\"julio\" or nombre_mes==\"agosto\" or nombre_mes==\"octubre\" or nombre_mes==\"diciembre\":\n",
    "    print(nombre_mes + \" tiene 31 días\")\n",
    "if nombre_mes==\"abril\" or nombre_mes==\"junio\" or nombre_mes==\"septiembre\" or nombre_mes==\"noviembre\":\n",
    "    print(nombre_mes + \" tiene 30 días\")\n",
    "if nombre_mes==\"febrero\":\n",
    "    print(\"Aveces febrero tiene 28 ó 29 días\")"
   ]
  },
  {
   "cell_type": "code",
   "execution_count": 219,
   "metadata": {},
   "outputs": [
    {
     "name": "stdout",
     "output_type": "stream",
     "text": [
      "Ingrese el nombre de un mes: julio\n",
      "julio tiene 30 días\n"
     ]
    }
   ],
   "source": [
    "#Segunda forma utlizando listas y verificando si existe en la lista\n",
    "meses_con_30_dias=[\"enero\",\"marzo\",\"mayo\",\"julio\",\"agosto\",\"diciembre\"]\n",
    "meses_con_31_dias=[\"abril\",\"junio\",\"septiembre\",\"noviembre\"]\n",
    "# se utiliza el método lower para llevar todo lo que ingrese el usuario a minúsculas\n",
    "nombre_mes_2=input(\"Ingrese el nombre de un mes: \").lower()\n",
    "if nombre_mes_2 in meses_con_30_dias:\n",
    "    print(nombre_mes_2 + \" tiene 30 días\")\n",
    "elif nombre_mes_2 in meses_con_31_dias:\n",
    "    print(nombre_mes_2 + \" tiene 31 días\")\n",
    "elif nombre_mes_2==\"febrero\":\n",
    "    print(\"El mes ingresado es febrero y puede tener 28 0 29 días\")\n",
    "else:\n",
    "    print(\"Ingrese un nombre de mes correcto\")\n",
    "\n"
   ]
  },
  {
   "cell_type": "code",
   "execution_count": 216,
   "metadata": {},
   "outputs": [],
   "source": [
    "#help()"
   ]
  },
  {
   "cell_type": "code",
   "execution_count": 229,
   "metadata": {},
   "outputs": [
    {
     "name": "stdout",
     "output_type": "stream",
     "text": [
      "20\n",
      "El perro tiene: 101.0 años caninos\n"
     ]
    }
   ],
   "source": [
    "#auto reto 2 sin respuesta en el libro No.35 \"Años perrunos\"\n",
    "'''\n",
    "Comúnmente se dice que un \"año-humano\" equivale a 7 \"años-perro\". Sin embargo, esta simple conversión no reconoce \n",
    "que los perros alcanzan la edad adulta en aproximadamente dos años. \n",
    "Como resultado, algunas personas creen que es mejor contar cada uno de los dos primeros\n",
    "\"años-humanos\" como 10.5 \"años-caninos\", y luego contar cada año humano adicional como 4 \"años-caninos\".\n",
    "\n",
    "Escriba un programa que implemente la conversión de \"años-humanos\" a \"años-caninos\" descrita en el párrafo anterior. \n",
    "Asegúrese de que su programa funcione correctamente para conversiones de menos de dos \"años-humanos\" y para conversiones\n",
    "de dos o más \"años-humanos\". Su programa debería mostrar un mensaje de error apropiado si el usuario ingresa un número negativo.\n",
    "'''\n",
    "anios_humanos=float(input())\n",
    "if anios_humanos<=2:\n",
    "    anios_caninos=anios_humanos*10.5\n",
    "    print(\"El perro tiene: \"+str(anios_caninos) + \" años caninos\")\n",
    "else:\n",
    "    anios_caninos=21 + anios_humanos*4\n",
    "    print(\"El perro tiene: \"+str(anios_caninos) + \" años caninos\")\n"
   ]
  },
  {
   "cell_type": "markdown",
   "metadata": {},
   "source": [
    "# Reto 12 de mayo"
   ]
  },
  {
   "cell_type": "code",
   "execution_count": 19,
   "metadata": {},
   "outputs": [
    {
     "name": "stdout",
     "output_type": "stream",
     "text": [
      "12.45687\n",
      "11.24568\n",
      "12.45687\n",
      "10.25654\n",
      "Danna 21.5\n"
     ]
    }
   ],
   "source": [
    "'''\n",
    "Durante una competencia de maratón se toman los tiempos de recorrido para la pista A y B entre\n",
    "Valentina y Danna; la competencia le corresponde dos pistas diferentes, y los organizadores del\n",
    "evento establecen que el valor decimal para establecer la ganadora es de 1; sin embargo, en caso de\n",
    "que la diferencia sea menor a 2 segundos o empate, se emplearan 4 decimales, como photo finish\n",
    "del evento. De esta forma el programa debe indicar los tiempos acumulados en las dos pistas por\n",
    "Valentina, Danna e indicar la ganadora.\n",
    "Caracteristicas de la entrada\n",
    " La entrada corresponde a 4 números reales (v1 d1 v2 d2); donde v1 es el tiempo en segundos de\n",
    " Valentina en la primera pista, y v2 los segundos de Valentina en la segunda pista, en el caso de d1\n",
    " corresponde al tiempo en segundos de Danna en la primera pista, y d2 en la segunda pista\n",
    "1<=v1,d1,v2,d2<=1000\n",
    "la salida:\n",
    "El nombre del ganador entre Valentina, Danna y Empate, y el valor acumulado por las dos pistas.\n",
    "12.45687 11.24568 12.458796 10.25654\n",
    "Danna 21.5\n",
    "'''\n",
    "\n",
    "v1=float(input())\n",
    "d1=float(input())\n",
    "v2=float(input())\n",
    "d2=float(input())\n",
    "total_danna=d1+d2\n",
    "total_valentina=v1+v2\n",
    "#esto se puede asumir, nunca van a entrar un número negativo o mayor que mil\n",
    "if v1<1 or v1>1000 or v2<1 or v2>1000 or d1<1 or d1>1000 or d2<1 or d2>1000:\n",
    "    print(\"alguno de los datos no es válido, por favor revise\")\n",
    "else:\n",
    "    if abs(total_danna-total_valentina)==0:\n",
    "        print(\"Empate\")  \n",
    "    elif abs(total_danna-total_valentina)<=2:\n",
    "        total_danna=round(total_danna,4)\n",
    "        total_valentina=round(total_valentina,4)\n",
    "        if min(total_danna,total_valentina)==total_danna:\n",
    "            print(\"Danna \" +str(total_danna))\n",
    "        else:\n",
    "            print(\"Valentina \" +str(total_valentina))\n",
    "        print(total_danna)\n",
    "        print(total_valentina)\n",
    "    else:\n",
    "        total_danna=round(total_danna,1)\n",
    "        total_valentina=round(total_valentina,1)\n",
    "        if min(total_danna,total_valentina)==total_danna:\n",
    "            print(\"Danna \" +str(total_danna))\n",
    "        else:\n",
    "            print(\"Valentina \" +str(total_valentina))\n",
    "    \n",
    "#if math.abs(total_danna-total_valentina)\n",
    "#entrada=[v1,d1,v2,d2]\n",
    "\n",
    "#print(total_danna)\n",
    "#print(total_valentina)\n",
    "#v1=float(input())\n",
    "#d1=float(input())\n",
    "#v2=float(input())\n",
    "#d2=float(input())\n",
    "#2 3 2 4 -->Valentina 4.0\n",
    "#2 3 2 2 -->diferencia < a 2 segundos valentina ganadora\n",
    "#2.12364 3.10246 2.01925 2.67296 -->diferencia < a 2 segundos Valentina ganadora: output Valentina 4.1429\n",
    "#2.135632 4.8239102 1.564839 3.56918-->diferencia > a 2 segundos se redondea a un decimal Valentina ganadora: output Valentina 3.7\n",
    "#2.135632 4.8239102 4.8239102 2.135632-->empate "
   ]
  },
  {
   "cell_type": "code",
   "execution_count": 36,
   "metadata": {},
   "outputs": [
    {
     "name": "stdout",
     "output_type": "stream",
     "text": [
      "5\n",
      "5\n",
      "5\n",
      "2\n",
      "2\n",
      "5.0 es el mayor\n",
      "2.0 es el menor\n"
     ]
    }
   ],
   "source": [
    "#Otro ejercicio\n",
    "\n",
    "'''\n",
    "De una lista de 5 números digame cuál es el número mayor y cuál es el número menor\n",
    "(no utilizar ciclos ni instrucción adicional)\n",
    "usos permitidos\n",
    "librería math\n",
    "estructuras condicionales\n",
    "'''\n",
    "#5 5 5 2 2 la respuesta: 5 es el mayor y 2 es el menor\n",
    "mayor=None\n",
    "menor=None\n",
    "a=float(input())\n",
    "b=float(input())\n",
    "c=float(input())\n",
    "d=float(input())\n",
    "e=float(input())\n",
    "\n",
    "if a>=b and a>=c and a>=d and a>=e:\n",
    "    mayor=a\n",
    "if a<=b and a<=c and a<=d and a<=e:\n",
    "    menor=a\n",
    "\n",
    "if b>=c and b>=d and b>=e and b>=a:\n",
    "    mayor=b\n",
    "if b<=c and b<=d and b<=e and b<=a:\n",
    "    menor=b\n",
    "\n",
    "if c>=d and c>=e and c>=a and c>=b:\n",
    "    mayor=c\n",
    "if c<=d and c<=e and c<=a and c<=b:\n",
    "    menor=c\n",
    "    \n",
    "if d>=e and d>=a and d>=b and d>=c:\n",
    "    mayor=d\n",
    "if d<=e and d<=a and d<=b and d<=c:\n",
    "    menor=d\n",
    "    \n",
    "if e>=a and e>=b and e>=c and e>=d:\n",
    "    mayor=e\n",
    "if e<=a and e<=b and e<=c and e<=d:\n",
    "    menor=e\n",
    "    \n",
    "print(str(mayor) + \" es el mayor\")\n",
    "print(str(menor) + \" es el menor\")\n",
    "#5 5 5 2 2 la respuesta: 5 es el mayor y 2 es el menor"
   ]
  },
  {
   "cell_type": "code",
   "execution_count": 69,
   "metadata": {},
   "outputs": [
    {
     "name": "stdout",
     "output_type": "stream",
     "text": [
      "41\n",
      "Ricardo\n",
      "41\n",
      "Rafael\n",
      "40\n",
      "Mantilla\n",
      "Mantilla Ricardo Rafael\n"
     ]
    }
   ],
   "source": [
    "# Ejercicio en clase\n",
    "# Enviar a webrichardnet@gmail.com\n",
    "\n",
    "'''\n",
    "\"Los caballeros de la orden\"\n",
    "En la mesa de consejeros del rey arturo en el reino del nunca jamás, existen 3 puestos junto a él. \n",
    "Y se deben tomar decisiones importantes frente al reino y sus ciudadanos, para esto invita a los 3 hombres más sabios\n",
    "y desea que se organicen por edad donde el primer puesto sea para el de mayor edad\n",
    "el puesto más lejano es para el más joven de los sabios. Elabore un programa que ayude a organizar los visitantes\n",
    "la entrada está compuesta por 3 parejas de datos, la edad y el nombre, la edad corresponde a números enteros,\n",
    "la salida corresponde al orden por edad en la mesa de los tres sabios de mayor a menor mostrando solo los nombres\n",
    "edad,nombre,edad,nombre,edad,nombre\n",
    "\n",
    "# Caso 1\n",
    "78 Moises\n",
    "92 Abraham\n",
    "103 Noe\n",
    "\n",
    "# Salida\n",
    "Noe\n",
    "Abraham\n",
    "Moises\n",
    "\n",
    "#25 Maria 25 Jennifer 25 Marcela  ---> Marcela Jennifer Maria OK\n",
    "#41 Ricardo 41 Rafael 40 Mantilla ---> Rafael Ricardo Mantilla OK\n",
    "#25 Ana 54 Luis 54 Marcos ---> Marcos Luis Ana OK\n",
    "\n",
    "#Caso 2\n",
    "\n",
    "'''\n",
    "##-----GIVe UP -----\"#\n",
    "\n",
    "primero=None\n",
    "segundo=None\n",
    "tercero=None\n",
    "\n",
    "edad_a=float(input())\n",
    "nombre_a=input()\n",
    "edad_b=float(input())\n",
    "nombre_b=input()\n",
    "edad_c=float(input())\n",
    "nombre_c=input()\n",
    "\n",
    "\n",
    "#Todas las edades son iguales\n",
    "if edad_a==edad_b==edad_c:\n",
    "    primero=nombre_c\n",
    "    segundo=nombre_b\n",
    "    tercero=nombre_a\n",
    "\n",
    "#Dos edades iguales una mayor y una menor\n",
    "if edad_a==edad_b<edad_c:\n",
    "    primero=nombre_b\n",
    "    segundo=nombre_a\n",
    "    tercero=nombre_c\n",
    "\n",
    "if edad_a==edad_b>edad_c:\n",
    "    primero=nombre_c\n",
    "    segundo=nombre_a\n",
    "    tercero=nombre_b\n",
    "\n",
    "#Dos edades iguales una mayor y una menor\n",
    "if edad_a==edad_c<edad_b:\n",
    "    primero=nombre_c\n",
    "    segundo=nombre_a\n",
    "    tercero=nombre_b\n",
    "\n",
    "if edad_a==edad_c>edad_b:\n",
    "    primero=nombre_c\n",
    "    segundo=nombre_a\n",
    "    tercero=nombre_b\n",
    "\n",
    "#Dos edades iguales una mayor y una menor\n",
    "if edad_b==edad_c<edad_a:\n",
    "    primero=nombre_c\n",
    "    segundo=nombre_b\n",
    "    tercero=nombre_a\n",
    "\n",
    "if edad_b==edad_c>edad_a:\n",
    "    primero=nombre_a\n",
    "    segundo=nombre_a\n",
    "    tercero=nombre_b\n",
    "\n",
    "\n",
    "\n",
    "    \n",
    "\n",
    "#----    \n",
    "if edad_a>edad_b>edad_c:\n",
    "    primero=nombre_c\n",
    "    segundo=nombre_b\n",
    "    tercero=nombre_a\n",
    "if edad_a>edad_c>edad_b:\n",
    "    primero=nombre_b\n",
    "    segundo=nombre_c\n",
    "    tercero=nombre_a\n",
    "\n",
    "#----\n",
    "if edad_b>edad_c>edad_a:\n",
    "    primero=nombre_a\n",
    "    segundo=nombre_c\n",
    "    tercero=nombre_b\n",
    "if edad_b>edad_a>edad_c:\n",
    "    primero=nombre_c\n",
    "    segundo=nombre_a\n",
    "    tercero=nombre_b\n",
    "\n",
    "\n",
    "#---\n",
    "if edad_c>edad_a>edad_b:\n",
    "    primero=nombre_b\n",
    "    segundo=nombre_a\n",
    "    tercero=nombre_c\n",
    "if edad_c>edad_b>edad_a:\n",
    "    primero=nombre_a\n",
    "    segundo=nombre_b\n",
    "    tercero=nombre_c\n",
    "\n",
    "    \n",
    "print(primero,segundo,tercero)\n",
    "\n",
    "\n"
   ]
  },
  {
   "cell_type": "code",
   "execution_count": null,
   "metadata": {},
   "outputs": [],
   "source": []
  },
  {
   "cell_type": "code",
   "execution_count": 12,
   "metadata": {},
   "outputs": [
    {
     "data": {
      "text/plain": [
       "4.1428899999999995"
      ]
     },
     "execution_count": 12,
     "metadata": {},
     "output_type": "execute_result"
    }
   ],
   "source": [
    "#total 4.1428899999999995 redondeado 4.1429 Valentina\n",
    "2.12364+2.01925"
   ]
  },
  {
   "cell_type": "code",
   "execution_count": 15,
   "metadata": {},
   "outputs": [
    {
     "data": {
      "text/plain": [
       "5.77542"
      ]
     },
     "execution_count": 15,
     "metadata": {},
     "output_type": "execute_result"
    }
   ],
   "source": [
    "#total 4.692209999999999 redondeado 4.6922 Danna\n",
    "3.10246 + 2.67296"
   ]
  },
  {
   "cell_type": "markdown",
   "metadata": {},
   "source": [
    "## Reto 2 16 de mayo\n"
   ]
  },
  {
   "cell_type": "markdown",
   "metadata": {},
   "source": [
    "'''\n",
    "Muchos son los cambios que promueven la pandemia generada por el COVID-19\n",
    "y sus variantes; por mencionar algunos: la alimentación, el control del peso, etc. \n",
    "María Fernanda se encuentra preocupada por la salud de su familia, y encuentra un artículo para\n",
    "llevar un control sobre el peso, conocido como “índice de masa corporal” (IMC) para adultos de 20 años o más.\n",
    "\n",
    "El IMC permite establecer una clasificación al relacionar el peso en metros con el peso en kilogramos; \n",
    "la relación esta determinada por el peso (kg) / estatura (mts) elevada a la 2, que determina un índice\n",
    "y a su vez el nivel de peso (bajo peso, normal, sobrepeso y obeso). \n",
    "\n",
    " \n",
    "IMC\n",
    "\n",
    "Nivel de peso\n",
    "\n",
    "Por debajo de 18.5 Bajo peso\n",
    "18.5 – 24.9 Normal\n",
    "25.0 – 29.9 Sobrepeso\n",
    "30.0 o más Obeso\n",
    "\n",
    " \n",
    "Planteamiento del reto\n",
    "  \n",
    "\n",
    "Con respecto a la situación planteada, ¿De qué manera crees que María Fernanda puede automatizar el\n",
    "control del nivel de peso para sus familiares con base al IMC?,  considerando que la frecuencia y \n",
    "cantidad de integrantes del grupo familiar son numerosos, demandando mucho tiempo para realizar \n",
    "los cálculos de forma manual, y la alta probabilidad de equivocarse;  entonces, María Fernanda \n",
    "decide diseñar un algoritmo desde un lenguaje de programación, que simplifique el tiempo empleado y \n",
    "minimice la probabilidad de error humano al realizar las operaciones a cada uno de sus familiares.\n",
    "\n",
    "Acciones de aprendizaje\n",
    "\n",
    "\n",
    "a. Analizar, identificar y declarar las variables que considere necesarias para realizar los cálculos del IMC\n",
    "    y los estados relacionados con el nivel de peso.\n",
    "b. Determinar desde las variables identificadas, cual(es) corresponden a los datos de entrada, \n",
    "    las operaciones entre ellas que dan solución al reto, y cual(es) son los datos para presentar como salida.\n",
    "c. Diseñar el algoritmo desde un lenguaje de programación que facilite las tareas de automatización,\n",
    "    depuración y verificación de la solución propuesta.\n",
    " \n",
    "\n",
    "Escriba el algoritmo diseñado para solucionar el reto.\n",
    "\n",
    "\n",
    "Solución del reto\n",
    "\n",
    "\n",
    "'''"
   ]
  },
  {
   "cell_type": "code",
   "execution_count": 15,
   "metadata": {},
   "outputs": [
    {
     "name": "stdout",
     "output_type": "stream",
     "text": [
      "70\n",
      "1.78\n",
      "Normal\n"
     ]
    }
   ],
   "source": [
    "import math\n",
    "peso=float(input()) # En kilogramos\n",
    "estatura=float(input()) # En metros\n",
    "IMC=(peso/math.pow(estatura,2))\n",
    "\n",
    "if IMC<=18.5:\n",
    "    print(\"Bajo peso\")\n",
    "elif IMC>18.5 and IMC<=24.9:\n",
    "    print(\"Normal\")\n",
    "elif IMC>24.9 and IMC<=29.9:\n",
    "    print(\"Sobrepeso\")\n",
    "else:\n",
    "    print(\"Obeso\")\n"
   ]
  },
  {
   "cell_type": "code",
   "execution_count": 10,
   "metadata": {},
   "outputs": [
    {
     "data": {
      "image/jpeg": "[encoded data removed]",
      "text/plain": [
       "<IPython.core.display.Image object>"
      ]
     },
     "execution_count": 10,
     "metadata": {},
     "output_type": "execute_result"
    }
   ],
   "source": [
    "from IPython import display\n",
    "display.Image(\"./IMC.jpg\")"
   ]
  },
  {
   "cell_type": "code",
   "execution_count": 70,
   "metadata": {},
   "outputs": [
    {
     "name": "stdout",
     "output_type": "stream",
     "text": [
      "1\n",
      "2\n",
      "3\n",
      "4\n",
      "0\n"
     ]
    }
   ],
   "source": [
    "#Auto reto 3\n",
    "'''In this exercise you will create a program that computes the average of a collection\n",
    "of values entered by the user. The user will enter 0 as a sentinel value to indicate\n",
    "that no further values will be provided. Your program should display an appropriate\n",
    "error message if the first value entered by the user is 0.\n",
    "'''\n",
    "\n",
    "lista=[]\n",
    "y=1 #Variable centinela o bandera\n",
    "while y!=0:\n",
    "    x=int(input())\n",
    "    lista.append(x)\n",
    "    if x==0:\n",
    "        y=0\n",
    "    variable=lista[:-1]\n",
    "promedio=sum(variable)/len(variable)\n",
    "    \n"
   ]
  },
  {
   "cell_type": "code",
   "execution_count": 71,
   "metadata": {},
   "outputs": [
    {
     "data": {
      "text/plain": [
       "[1, 2, 3, 4, 0]"
      ]
     },
     "execution_count": 71,
     "metadata": {},
     "output_type": "execute_result"
    }
   ],
   "source": [
    "lista"
   ]
  },
  {
   "cell_type": "code",
   "execution_count": 72,
   "metadata": {},
   "outputs": [
    {
     "name": "stdout",
     "output_type": "stream",
     "text": [
      "2.5\n"
     ]
    }
   ],
   "source": [
    "print(promedio)"
   ]
  },
  {
   "cell_type": "code",
   "execution_count": 73,
   "metadata": {},
   "outputs": [
    {
     "data": {
      "text/plain": [
       "[1, 2, 3, 4]"
      ]
     },
     "execution_count": 73,
     "metadata": {},
     "output_type": "execute_result"
    }
   ],
   "source": [
    "variable"
   ]
  },
  {
   "cell_type": "code",
   "execution_count": 80,
   "metadata": {},
   "outputs": [
    {
     "name": "stdout",
     "output_type": "stream",
     "text": [
      "Se ha realizado una suma 15\n"
     ]
    }
   ],
   "source": [
    "suma_realizada=False\n",
    "a=5\n",
    "b=10\n",
    "if suma_realizada==False:\n",
    "    total=a+b\n",
    "    suma_realizada=True\n",
    "if suma_realizada==True:\n",
    "    print(\"Se ha realizado una suma \" + str(total))"
   ]
  },
  {
   "cell_type": "markdown",
   "metadata": {},
   "source": [
    "# 18 de Mayo 2021"
   ]
  },
  {
   "cell_type": "code",
   "execution_count": 112,
   "metadata": {},
   "outputs": [
    {
     "name": "stdout",
     "output_type": "stream",
     "text": [
      "1\n",
      "2\n",
      "3\n",
      "0\n"
     ]
    }
   ],
   "source": [
    "#se solicitan 5 números, si en alguno de los 5 números es un 0, entonces no capture más,\n",
    "#utilice una bandera para controlar el proceso\n",
    "\n",
    "a=int(input())\n",
    "bandera=False\n",
    "\n",
    "if a==0:\n",
    "    bandera=True\n",
    "if bandera==False:\n",
    "    b=int(input())\n",
    "    if b==0:\n",
    "        bandera=True\n",
    "if bandera==False:\n",
    "    c=int(input())\n",
    "    if c==0:\n",
    "        bandera=True\n",
    "if bandera==False:\n",
    "    d=int(input())\n",
    "    if d==0:\n",
    "        bandera=True\n",
    "if bandera==False:\n",
    "    e=int(input())\n",
    "    if e==0:\n",
    "        bandera=True"
   ]
  },
  {
   "cell_type": "code",
   "execution_count": 110,
   "metadata": {},
   "outputs": [
    {
     "name": "stdout",
     "output_type": "stream",
     "text": [
      "4\n",
      "5\n",
      "6\n",
      "7\n",
      "8\n",
      "18\n"
     ]
    }
   ],
   "source": [
    "\n",
    "#El mismo ejercicio\n",
    "#con los 5 números solo sumar los número pares\n",
    "\n",
    "\n",
    "bandera=False\n",
    "acumulador=0\n",
    "\n",
    "if bandera==False:\n",
    "    a=int(input())    \n",
    "    if a==0:\n",
    "        bandera=True\n",
    "    elif a%2==0:\n",
    "        acumulador=a\n",
    "if bandera==False:\n",
    "    b=int(input())\n",
    "    if b==0:\n",
    "        bandera=True\n",
    "    elif b%2==0:\n",
    "        acumulador=acumulador+b\n",
    "if bandera==False:\n",
    "    c=int(input())\n",
    "    if c==0:\n",
    "        bandera=True\n",
    "    elif c%2==0:\n",
    "        acumulador=acumulador+c\n",
    "if bandera==False:\n",
    "    d=int(input())\n",
    "    if d==0:\n",
    "        bandera=True\n",
    "    elif d%2==0:\n",
    "        acumulador=acumulador+d\n",
    "if bandera==False:\n",
    "    e=int(input())\n",
    "    if e==0:\n",
    "        bandera=True\n",
    "    elif e%2==0:\n",
    "        acumulador=acumulador+e\n",
    "print(acumulador)"
   ]
  },
  {
   "cell_type": "code",
   "execution_count": 125,
   "metadata": {},
   "outputs": [
    {
     "name": "stdout",
     "output_type": "stream",
     "text": [
      "7\n",
      "6\n",
      "5\n",
      "0\n",
      "6\n",
      "1\n"
     ]
    }
   ],
   "source": [
    "\n",
    "#El mismo ejercicio\n",
    "#con los 5 números solo sumar los número pares\n",
    "#también indicar cuántos números se ingresaron\n",
    "\n",
    "\n",
    "bandera=False\n",
    "acumulador=0\n",
    "contador=0\n",
    "if bandera==False:\n",
    "    a=int(input())    \n",
    "    if a==0:\n",
    "        bandera=True\n",
    "    elif a%2==0:\n",
    "        acumulador=a\n",
    "        contador=1\n",
    "if bandera==False:\n",
    "    b=int(input())\n",
    "    if b==0:\n",
    "        bandera=True\n",
    "    elif b%2==0:\n",
    "        acumulador=acumulador+b\n",
    "        contador=contador+1\n",
    "if bandera==False:\n",
    "    c=int(input())\n",
    "    if c==0:\n",
    "        bandera=True\n",
    "    elif c%2==0:\n",
    "        acumulador=acumulador+c\n",
    "        contador=contador+1\n",
    "if bandera==False:\n",
    "    d=int(input())\n",
    "    if d==0:\n",
    "        bandera=True\n",
    "    elif d%2==0:\n",
    "        acumulador=acumulador+d\n",
    "        contador=contador+1\n",
    "if bandera==False:\n",
    "    e=int(input())\n",
    "    if e==0:\n",
    "        bandera=True\n",
    "    elif e%2==0:\n",
    "        acumulador=acumulador+e\n",
    "        contador=contador+1\n",
    "print(acumulador)\n",
    "print(contador)"
   ]
  },
  {
   "cell_type": "code",
   "execution_count": 18,
   "metadata": {},
   "outputs": [
    {
     "name": "stdout",
     "output_type": "stream",
     "text": [
      "14\n",
      "0\n"
     ]
    }
   ],
   "source": [
    "'''\n",
    "muestre en una sola linea todos los divisores de \"n\" ejempo si digito el 14\n",
    "deberia salir 1 2 7 (no debe salir el 14)\n",
    "'''\n",
    "lista=[]\n",
    "digito=int(input())\n",
    "escala=digito\n",
    "while escala>0:\n",
    "    resultado=digito%escala\n",
    "    if resultado==0:\n",
    "        lista.append(escala)\n",
    "    escala=escala-1\n",
    "lista=lista[0:]\n",
    "print(escala)"
   ]
  },
  {
   "cell_type": "code",
   "execution_count": 19,
   "metadata": {},
   "outputs": [
    {
     "data": {
      "text/plain": [
       "[7, 2, 1]"
      ]
     },
     "execution_count": 19,
     "metadata": {},
     "output_type": "execute_result"
    }
   ],
   "source": [
    "lista[1:]"
   ]
  },
  {
   "cell_type": "code",
   "execution_count": 20,
   "metadata": {},
   "outputs": [
    {
     "data": {
      "text/plain": [
       "1"
      ]
     },
     "execution_count": 20,
     "metadata": {},
     "output_type": "execute_result"
    }
   ],
   "source": [
    "14%13"
   ]
  },
  {
   "cell_type": "code",
   "execution_count": 25,
   "metadata": {},
   "outputs": [
    {
     "name": "stdout",
     "output_type": "stream",
     "text": [
      "14\n"
     ]
    }
   ],
   "source": [
    "''' Otra forma\n",
    "muestre en una sola linea todos los divisores de \"n\" ejempo si digito el 14\n",
    "deberia salir 1 2 7 (no debe salir el 14)\n",
    "'''\n",
    "bandera=False\n",
    "numero=int(input())\n",
    "contador=1\n",
    "lista=[]\n",
    "while bandera==False and contador<=numero/2:\n",
    "    if numero==0:\n",
    "        bandera=True\n",
    "    if numero%contador==0:\n",
    "        lista.append(contador)\n",
    "    contador=contador+1\n",
    "    \n",
    "\n"
   ]
  },
  {
   "cell_type": "code",
   "execution_count": 26,
   "metadata": {},
   "outputs": [
    {
     "data": {
      "text/plain": [
       "[1, 2, 7]"
      ]
     },
     "execution_count": 26,
     "metadata": {},
     "output_type": "execute_result"
    }
   ],
   "source": [
    "lista\n"
   ]
  },
  {
   "cell_type": "code",
   "execution_count": 29,
   "metadata": {},
   "outputs": [
    {
     "name": "stdout",
     "output_type": "stream",
     "text": [
      "14\n",
      "1 - 2 - 7 - \n"
     ]
    }
   ],
   "source": [
    "''' Otra forma concatenando textos no en listas\n",
    "muestre en una sola linea todos los divisores de \"n\" ejempo si digito el 14\n",
    "deberia salir 1 2 7 (no debe salir el 14)\n",
    "'''\n",
    "bandera=False\n",
    "numero=int(input())\n",
    "contador=1\n",
    "respuesta=\"\"\n",
    "while bandera==False and contador<=numero/2:\n",
    "    if numero==0:\n",
    "        bandera=True\n",
    "    if numero%contador==0:\n",
    "        respuesta=respuesta + str(contador)+ \" - \"\n",
    "    contador=contador+1\n",
    "    \n",
    "\n",
    "print(respuesta)"
   ]
  },
  {
   "cell_type": "markdown",
   "metadata": {},
   "source": [
    "# Uso del ciclo For"
   ]
  },
  {
   "cell_type": "markdown",
   "metadata": {},
   "source": [
    "## Mientras que el ciclo while parte de una condición\n",
    "    Aquí usted no tiene ni idea cuántas veces debe iterar\n",
    "## El ciclo for parte de una cantidad definida\n",
    "    Aquí usted sabe con certeza cuántas veces debe iterar"
   ]
  },
  {
   "cell_type": "code",
   "execution_count": 33,
   "metadata": {},
   "outputs": [
    {
     "name": "stdout",
     "output_type": "stream",
     "text": [
      "0\n",
      "1\n",
      "2\n",
      "3\n"
     ]
    }
   ],
   "source": [
    "\n",
    "for i in range(3):\n",
    "    print(i)"
   ]
  },
  {
   "cell_type": "code",
   "execution_count": 38,
   "metadata": {},
   "outputs": [
    {
     "name": "stdout",
     "output_type": "stream",
     "text": [
      "18\n",
      "1 2 3 6 9 \n"
     ]
    }
   ],
   "source": [
    "''' Otra forma utilizando el tipo de ciclo For\n",
    "muestre en una sola linea todos los divisores de \"n\" ejempo si digito el 14\n",
    "deberia salir 1 2 7 (no debe salir el 14)\n",
    "'''\n",
    "n=int(input())\n",
    "respuesta=\"\"\n",
    "#Para la variable i que va a arrancar desde 1 hasta n/2 incrementandose de 1 en 1\n",
    "for i in range(1,int(n/2)+1,1):\n",
    "    if n%i==0:\n",
    "        respuesta=respuesta + str(i) + \" \"\n",
    "print(respuesta)"
   ]
  },
  {
   "cell_type": "code",
   "execution_count": 41,
   "metadata": {},
   "outputs": [
    {
     "name": "stdout",
     "output_type": "stream",
     "text": [
      "12 15 18 21 24 27 30 33 36 39 42 45 48 51 54 57 60 63 66 69 72 75 78 81 84 87 90 93 96 99 \n",
      "10 15 20 25 30 35 40 45 50 55 60 65 70 75 80 85 90 95 100 \n",
      "14 21 28 35 42 49 56 63 70 77 84 91 98 \n"
     ]
    }
   ],
   "source": [
    "#Ejercicio en clase\n",
    "''' \n",
    "Quiero que me muestre los múltiplos de 3, los múltiplos de 5 y los múltiplos de 7 de los números comprendidos entre 10 y 100\n",
    "\n",
    "'''\n",
    "#con un ciclo for\n",
    "multiplos_de_3=\"\"\n",
    "multiplos_de_5=\"\"\n",
    "multiplos_de_7=\"\"\n",
    "\n",
    "for i in range(10,101):\n",
    "    if i%3==0:\n",
    "        multiplos_de_3=multiplos_de_3+str(i) + \" \"\n",
    "    if i%5==0:\n",
    "        multiplos_de_5=multiplos_de_5+str(i) + \" \"\n",
    "    if i%7==0:\n",
    "        multiplos_de_7=multiplos_de_7+str(i) + \" \"\n",
    "    \n",
    "\n",
    "print(multiplos_de_3)\n",
    "print(multiplos_de_5)\n",
    "print(multiplos_de_7)"
   ]
  },
  {
   "cell_type": "code",
   "execution_count": 43,
   "metadata": {},
   "outputs": [
    {
     "name": "stdout",
     "output_type": "stream",
     "text": [
      "12 15 18 21 24 27 30 33 36 39 42 45 48 51 54 57 60 63 66 69 72 75 78 81 84 87 90 93 96 99 \n",
      "10 15 20 25 30 35 40 45 50 55 60 65 70 75 80 85 90 95 100 \n",
      "14 21 28 35 42 49 56 63 70 77 84 91 98 \n"
     ]
    }
   ],
   "source": [
    "#Ejercicio en clase\n",
    "''' \n",
    "Quiero que me muestre los múltiplos de 3, los múltiplos de 5 y los múltiplos de 7 de los números comprendidos entre 10 y 100\n",
    "\n",
    "'''\n",
    "#con un ciclo while\n",
    "\n",
    "multiplos_de_3_w=\"\"\n",
    "multiplos_de_5_w=\"\"\n",
    "multiplos_de_7_w=\"\"\n",
    "\n",
    "i=10\n",
    "\n",
    "while i<=100: #en un ciclo while me interesa evaluar una condición\n",
    "    if i%3==0:\n",
    "        multiplos_de_3_w=multiplos_de_3_w+str(i) + \" \"\n",
    "    if i%5==0:\n",
    "        multiplos_de_5_w=multiplos_de_5_w+str(i) + \" \"\n",
    "    if i%7==0:\n",
    "        multiplos_de_7_w=multiplos_de_7_w+str(i) + \" \"\n",
    "    i=i+1 #en un ciclo while tengo que incrementar el contador inicializandolo desde afuera\n",
    "    \n",
    "\n",
    "print(multiplos_de_3_w)\n",
    "print(multiplos_de_5_w)\n",
    "print(multiplos_de_7_w)"
   ]
  },
  {
   "cell_type": "code",
   "execution_count": null,
   "metadata": {},
   "outputs": [],
   "source": []
  },
  {
   "cell_type": "markdown",
   "metadata": {},
   "source": [
    "Reto tema 3\n",
    "\n",
    "Planteamiento de la situación\n",
    "\n",
    "Los números tienen una clasificación con base a sus divisores; es así que los números abundantes son aquellos números que sus divisores superan el valor evaluado; por su parte, los números deficientes son aquellos que la sumatoria de sus divisores es menor que el valor evaluado y finalmente, los números perfectos corresponden a los números que la sumatoria de sus divisores es igual al mismo valor.\n",
    "\n",
    "Nota: naturalmente, los divisores no contemplan el mismo número porque todos serían abundantes.\n",
    "\n",
    "Planteamiento del reto\n",
    "\n",
    "¿De qué manera puedes ayudar en la generación de un algoritmo que establezca el tipo de número ingresado, la cantidad de divisores y finalmente la lista de los divisores?\n",
    "\n",
    "Caso de ejemplo:\n",
    "Entrada:\n",
    "28\n",
    "Salida:\n",
    "Perfecto 5\n",
    "Lista divisores: 1-2-4-7-14\n",
    "\n",
    "Solución del reto\n",
    "\n",
    "Solucione el reto, escribiendo el código con lo aprendido durante estas 3 semanas (fundamentos, sentencias condicionales y sentencias iterativas)"
   ]
  },
  {
   "cell_type": "code",
   "execution_count": null,
   "metadata": {},
   "outputs": [],
   "source": [
    "#Estableciendo las categorías\n",
    "'''\n",
    "los números abundantes son aquellos números que sus divisores superan el valor evaluado; \n",
    "por su parte, los números deficientes son aquellos que la sumatoria de sus divisores es menor que el valor evaluado\n",
    "y finalmente, los números perfectos corresponden a los números que la sumatoria de sus divisores es igual al mismo valor\n",
    "'''\n",
    "#Tipo de número:\"Perfecto\" \"Deficiente\" \"Abundante\"\n",
    "#Caso 1\n",
    "Entrada:\n",
    "28\n",
    "Salida:\n",
    "Perfecto 5\n",
    "Lista divisores: 1-2-4-7-14\n",
    "\n",
    "#Caso 2\n",
    "17 \n",
    "Deficiente 1\n",
    "Lista divisores: 1\n",
    "\n",
    "#Caso 3\n",
    "48 \n",
    "Abundante 9\n",
    "Lista divisores: 1-2-3-4-6-8-12-16-24"
   ]
  },
  {
   "cell_type": "code",
   "execution_count": 25,
   "metadata": {},
   "outputs": [
    {
     "name": "stdout",
     "output_type": "stream",
     "text": [
      "4\n",
      "Deficiente 2\n",
      "Lista divisores: 1-2\n"
     ]
    }
   ],
   "source": [
    "numero=int(input())\n",
    "divisores=\"\"\n",
    "suma=0\n",
    "contador=0\n",
    "for i in range(1,numero):\n",
    "    if numero%i==0:\n",
    "        if numero/2==i:\n",
    "            suma=suma+i            \n",
    "            divisores=divisores+str(i)\n",
    "            contador=contador+1\n",
    "        else:\n",
    "            suma=suma+i\n",
    "            divisores=divisores+str(i)+\"-\"\n",
    "            contador=contador+1\n",
    "\n",
    "if suma<numero:\n",
    "    categoria=\"Deficiente \"\n",
    "if suma==numero:\n",
    "    categoria=\"Perfecto \"\n",
    "if suma>numero:\n",
    "    categoria=\"Abundante \"\n",
    "\n",
    "print(categoria + str(contador))\n",
    "print((\"Lista divisores: \"+divisores).rstrip('-'))"
   ]
  },
  {
   "cell_type": "code",
   "execution_count": 32,
   "metadata": {},
   "outputs": [
    {
     "name": "stdout",
     "output_type": "stream",
     "text": [
      "28\n",
      "Deficiente 5\n",
      "Lista divisores: 1-2-4-7-14\n"
     ]
    }
   ],
   "source": [
    "#Otra opción sin quitar al final con la función rstrip\n",
    "\n",
    "numero=int(input())\n",
    "divisores=\"\"\n",
    "suma=0\n",
    "contador=0\n",
    "for i in range(1,numero):\n",
    "    if numero%i==0:\n",
    "        if i==1:\n",
    "            divisores=divisores+str(i)\n",
    "            contador=contador+1   \n",
    "        else:\n",
    "            suma=suma+i\n",
    "            divisores=divisores+\"-\"+str(i)\n",
    "            contador=contador+1\n",
    "\n",
    "if suma<numero:\n",
    "    categoria=\"Deficiente \"\n",
    "if suma==numero:\n",
    "    categoria=\"Perfecto \"\n",
    "if suma>numero:\n",
    "    categoria=\"Abundante \"\n",
    "\n",
    "print(categoria + str(contador))\n",
    "print((\"Lista divisores: \"+divisores)) #Sin la función rstrip\n"
   ]
  },
  {
   "cell_type": "code",
   "execution_count": 33,
   "metadata": {},
   "outputs": [
    {
     "data": {
      "text/plain": [
       "'1-2-4-7-14'"
      ]
     },
     "execution_count": 33,
     "metadata": {},
     "output_type": "execute_result"
    }
   ],
   "source": [
    "divisores"
   ]
  },
  {
   "cell_type": "code",
   "execution_count": 13,
   "metadata": {},
   "outputs": [
    {
     "name": "stdout",
     "output_type": "stream",
     "text": [
      "88888888this is string example....wow!!!888888\n"
     ]
    }
   ],
   "source": [
    "texto = \"88888888this is string example....wow!!!888888w\";\n",
    "print(texto.rstrip('w'))"
   ]
  },
  {
   "cell_type": "markdown",
   "metadata": {},
   "source": [
    "# Casos Reto semana 3\n",
    "\n",
    "28 Perfecto 5\n",
    "Lista divisores: 1-2-4-7-14\n",
    "Perfecto 5\n",
    "Lista divisores: 1-2-4-7-14\n",
    "17 Deficiente 1\n",
    "Lista divisores: 1\n",
    "Deficiente 1\n",
    "Lista divisores: 1\n",
    "48 Abundante 9\n",
    "Lista divisores: 1-2-3-4-6-8-12-16-24\n",
    "Abundante 9\n",
    "Lista divisores: 1-2-3-4-6-8-12-16-24"
   ]
  },
  {
   "cell_type": "markdown",
   "metadata": {},
   "source": [
    "# Clase 21 de Mayo Viernes"
   ]
  },
  {
   "cell_type": "code",
   "execution_count": 34,
   "metadata": {},
   "outputs": [],
   "source": [
    "#..."
   ]
  },
  {
   "cell_type": "markdown",
   "metadata": {},
   "source": [
    "USANDO FUNCIONES PREDEFINIDAS\n",
    "La bolsa de valores TRIKI-TRAKE tiene como valor oficial del dólar el registrado en el día domingo (valor base de la semana anterior), abre operaciones para los días lunes, martes, miércoles, jueves, viernes, sábado y domingo (semana siguiente), una vez obtiene los valores del dólar de los días de la semana se desea conocer:\n",
    "\n",
    "1. Cual es el día o días con mayor valor?\n",
    "2. Cual fue el día con menor valor?\n",
    "3. Cual es el valor de la diferencia de esta semana (rango: diferencia del numero mayor y numero menor)?\n",
    "4. Cual semana cerró con valor mas alto?\n"
   ]
  },
  {
   "cell_type": "markdown",
   "metadata": {},
   "source": [
    "# Funciones Predefinidas\n",
    "Las funciones predefinidas ya vienen instaladas por defecto con el lenguaje de programación\n",
    "\n",
    "Los métodos también son funciones, pero difieren de las funciones predefinidas en que ellos\n",
    "no pueden existir por sí solos, ya que están asociados a determinado objeto o tipo de dato, de tal manera que operan\n",
    "sobre ellos"
   ]
  },
  {
   "cell_type": "code",
   "execution_count": 1,
   "metadata": {},
   "outputs": [
    {
     "data": {
      "text/plain": [
       "int"
      ]
     },
     "execution_count": 1,
     "metadata": {},
     "output_type": "execute_result"
    }
   ],
   "source": [
    "#Función predefinida type()\n",
    "x=2\n",
    "type(x)"
   ]
  },
  {
   "cell_type": "code",
   "execution_count": 5,
   "metadata": {},
   "outputs": [
    {
     "data": {
      "text/plain": [
       "12.01"
      ]
     },
     "execution_count": 5,
     "metadata": {},
     "output_type": "execute_result"
    }
   ],
   "source": [
    "#Función predefinida max()\n",
    "max(4,5,8,12.01,3.5,True)"
   ]
  },
  {
   "cell_type": "code",
   "execution_count": 6,
   "metadata": {},
   "outputs": [
    {
     "data": {
      "text/plain": [
       "[3, 4, 5, 6, 19]"
      ]
     },
     "execution_count": 6,
     "metadata": {},
     "output_type": "execute_result"
    }
   ],
   "source": [
    "#Función predefinida sorted()\n",
    "datos=[3,4,19,5,6]\n",
    "sorted(datos)"
   ]
  },
  {
   "cell_type": "code",
   "execution_count": 8,
   "metadata": {},
   "outputs": [
    {
     "data": {
      "text/plain": [
       "[19, 6, 5, 4, 3]"
      ]
     },
     "execution_count": 8,
     "metadata": {},
     "output_type": "execute_result"
    }
   ],
   "source": [
    "#Función predefinida sorted() con orden de mayor a menor\n",
    "datos=[3,4,19,5,6]\n",
    "sorted(datos,reverse=True)"
   ]
  },
  {
   "cell_type": "code",
   "execution_count": 9,
   "metadata": {},
   "outputs": [
    {
     "name": "stdout",
     "output_type": "stream",
     "text": [
      "andrés\n"
     ]
    }
   ],
   "source": [
    "#Función predefinida print()\n",
    "x=\"andrés\"\n",
    "print(x)"
   ]
  },
  {
   "cell_type": "code",
   "execution_count": 10,
   "metadata": {},
   "outputs": [
    {
     "name": "stdout",
     "output_type": "stream",
     "text": [
      "4\n"
     ]
    }
   ],
   "source": [
    "#Parámetros:\n",
    "#objeto: secuencia de datos (cadena de caracteres, tuplas, diccionarios o conjuntos).\n",
    "#Función predefinida len()\n",
    "nombre=\"Yeny\"\n",
    "print(len(nombre))"
   ]
  },
  {
   "cell_type": "code",
   "execution_count": 12,
   "metadata": {},
   "outputs": [
    {
     "data": {
      "text/plain": [
       "3"
      ]
     },
     "execution_count": 12,
     "metadata": {},
     "output_type": "execute_result"
    }
   ],
   "source": [
    "lista_estudiantes=[\"andrés\",\"yeny\",\"carolina\"]\n",
    "len(lista_estudiantes)\n"
   ]
  },
  {
   "cell_type": "code",
   "execution_count": 15,
   "metadata": {},
   "outputs": [
    {
     "name": "stdout",
     "output_type": "stream",
     "text": [
      "5\n"
     ]
    }
   ],
   "source": [
    "#Función predefinida input()\n",
    "entrada=input()"
   ]
  },
  {
   "cell_type": "markdown",
   "metadata": {},
   "source": [
    "# Clase 24 de mayo\n",
    "USANDO FUNCIONES PREDEFINIDAS \n",
    "\n",
    "La bolsa de valores TRIKI-TRAKE tiene como valor oficial del dólar el registrado en el día domingo (valor base de la semana anterior), abre operaciones para los días lunes, martes, miércoles, jueves, viernes, sábado y domingo (semana siguiente), una vez obtiene los valores del dólar de los días de la semana se desea conocer:\n",
    "\n",
    "Cual es el día o días con mayor valor?\n",
    "Cual fue el día con menor valor?\n",
    "Cual es el valor de la diferencia de esta semana (rango: diferencia del numero mayor y numero menor)?\n",
    "Cual semana cerró con valor mas alto?"
   ]
  },
  {
   "cell_type": "code",
   "execution_count": 19,
   "metadata": {},
   "outputs": [
    {
     "name": "stdout",
     "output_type": "stream",
     "text": [
      "3890\n",
      "3790\n",
      "3982\n",
      "3880\n",
      "3925\n",
      "3709\n",
      "3920\n",
      "[3890, 3790, 3982, 3880, 3925, 3709, 3920]\n",
      "3982\n"
     ]
    }
   ],
   "source": [
    "lunes=float(input())\n",
    "martes=float(input())\n",
    "miercoles=float(input())\n",
    "jueves=float(input())\n",
    "viernes=float(input())\n",
    "sabado=float(input())\n",
    "domingo=float(input())"
   ]
  },
  {
   "cell_type": "code",
   "execution_count": 20,
   "metadata": {},
   "outputs": [
    {
     "name": "stdout",
     "output_type": "stream",
     "text": [
      "[3890, 3790, 3982, 3880, 3925, 3709, 3920]\n",
      "3982\n",
      "3709\n",
      "273\n"
     ]
    }
   ],
   "source": [
    "lista_precios=[lunes,martes,miercoles,jueves,viernes,sabado,domingo]\n",
    "print(lista_precios)\n",
    "print(max(lista_precios))\n",
    "print(min(lista_precios))\n",
    "print(max(lista_precios)-min(lista_precios))"
   ]
  },
  {
   "cell_type": "code",
   "execution_count": 18,
   "metadata": {},
   "outputs": [
    {
     "data": {
      "text/plain": [
       "3991"
      ]
     },
     "execution_count": 18,
     "metadata": {},
     "output_type": "execute_result"
    }
   ],
   "source": [
    "max(lista_precios)"
   ]
  },
  {
   "cell_type": "code",
   "execution_count": 24,
   "metadata": {},
   "outputs": [
    {
     "name": "stdout",
     "output_type": "stream",
     "text": [
      "5\n",
      "6\n",
      "11\n"
     ]
    }
   ],
   "source": [
    "def suma(a,b):\n",
    "    c=a+b\n",
    "    return c\n",
    "\n",
    "\n",
    "n1=int(input())\n",
    "n2=int(input())\n",
    "n3=suma(n1,n2)\n",
    "print(n3)"
   ]
  },
  {
   "cell_type": "code",
   "execution_count": 39,
   "metadata": {},
   "outputs": [
    {
     "name": "stdout",
     "output_type": "stream",
     "text": [
      "5\n",
      "8\n",
      "13\n"
     ]
    }
   ],
   "source": [
    "#Definición de una función sin return\n",
    "\n",
    "def suma2(a,b):\n",
    "    d=a+b\n",
    "    print(d)\n",
    "m1=int(input())\n",
    "m2=int(input())\n",
    "suma2(m1,m2) #Ojo si la función no returna nada no puedo utilizar la salida, la función se ejecuta pero no se guarda en algo\n",
    "            #la variable la tengo y la controlo con el return pero si no está no se recupera\n"
   ]
  },
  {
   "cell_type": "markdown",
   "metadata": {},
   "source": [
    "# Clase 25 de Mayo\n",
    "# Módulos"
   ]
  },
  {
   "cell_type": "code",
   "execution_count": 41,
   "metadata": {},
   "outputs": [],
   "source": [
    "import math"
   ]
  },
  {
   "cell_type": "code",
   "execution_count": 42,
   "metadata": {},
   "outputs": [],
   "source": [
    "x=math.pow(5,2)"
   ]
  },
  {
   "cell_type": "code",
   "execution_count": 43,
   "metadata": {},
   "outputs": [
    {
     "data": {
      "text/plain": [
       "25.0"
      ]
     },
     "execution_count": 43,
     "metadata": {},
     "output_type": "execute_result"
    }
   ],
   "source": [
    "x"
   ]
  },
  {
   "cell_type": "code",
   "execution_count": 56,
   "metadata": {},
   "outputs": [
    {
     "name": "stdout",
     "output_type": "stream",
     "text": [
      "C:\\Users\\HP\\Documents\\MINTIC 2022\n"
     ]
    }
   ],
   "source": [
    "import os\n",
    "print(os.getcwd())"
   ]
  },
  {
   "cell_type": "code",
   "execution_count": 57,
   "metadata": {},
   "outputs": [],
   "source": [
    "#Tengo un archivo que se llama my_functions.py en el mismo directorio del notebook, en el archivo tengo una función sumamia\n",
    "#from my_functions import *\n",
    "#import my_functions as mf\n",
    "from my_functions import sumamia as sm"
   ]
  },
  {
   "cell_type": "code",
   "execution_count": 58,
   "metadata": {},
   "outputs": [],
   "source": [
    "x=sm(6,10)"
   ]
  },
  {
   "cell_type": "code",
   "execution_count": 59,
   "metadata": {},
   "outputs": [
    {
     "data": {
      "text/plain": [
       "16"
      ]
     },
     "execution_count": 59,
     "metadata": {},
     "output_type": "execute_result"
    }
   ],
   "source": [
    "x"
   ]
  },
  {
   "cell_type": "code",
   "execution_count": 96,
   "metadata": {},
   "outputs": [
    {
     "name": "stdout",
     "output_type": "stream",
     "text": [
      "10\n",
      "0.7310809672494831\n",
      "jueves\n"
     ]
    }
   ],
   "source": [
    "import random\n",
    "\n",
    "print(random.randint(0,10))\n",
    "print(random.uniform(0,1))\n",
    "dias=['lunes','martes','miercoles','jueves','viernes','sabado','domingo']\n",
    "print(random.choice(dias))"
   ]
  },
  {
   "cell_type": "code",
   "execution_count": 105,
   "metadata": {},
   "outputs": [
    {
     "name": "stdout",
     "output_type": "stream",
     "text": [
      "10.333333333333334\n",
      "9.0\n",
      "8\n",
      "4.844240566555986\n"
     ]
    }
   ],
   "source": [
    "import statistics\n",
    "a=[5,10,12,8,8,19]\n",
    "print(statistics.mean(a))\n",
    "print(statistics.median(a))\n",
    "print(statistics.mode(a))\n",
    "print(statistics.stdev(a))"
   ]
  },
  {
   "cell_type": "code",
   "execution_count": 114,
   "metadata": {},
   "outputs": [
    {
     "name": "stdout",
     "output_type": "stream",
     "text": [
      "18/5\n",
      "6/5\n"
     ]
    }
   ],
   "source": [
    "from fractions import Fraction as F\n",
    "w=[F(3,5),F(1,2),F(5,2)]\n",
    "x=sum(w)\n",
    "x_mean=statistics.mean(w)\n",
    "print(x)\n",
    "print(x_mean)"
   ]
  },
  {
   "cell_type": "code",
   "execution_count": 221,
   "metadata": {},
   "outputs": [
    {
     "data": {
      "text/plain": [
       "datetime.date(2021, 5, 25)"
      ]
     },
     "execution_count": 221,
     "metadata": {},
     "output_type": "execute_result"
    }
   ],
   "source": [
    "import datetime\n",
    "fecha=datetime.date.today()\n",
    "fecha"
   ]
  },
  {
   "cell_type": "code",
   "execution_count": 117,
   "metadata": {},
   "outputs": [
    {
     "data": {
      "text/plain": [
       "25"
      ]
     },
     "execution_count": 117,
     "metadata": {},
     "output_type": "execute_result"
    }
   ],
   "source": [
    "fecha.day"
   ]
  },
  {
   "cell_type": "code",
   "execution_count": 120,
   "metadata": {},
   "outputs": [
    {
     "data": {
      "text/plain": [
       "5"
      ]
     },
     "execution_count": 120,
     "metadata": {},
     "output_type": "execute_result"
    }
   ],
   "source": [
    "fecha.month"
   ]
  },
  {
   "cell_type": "code",
   "execution_count": 122,
   "metadata": {},
   "outputs": [
    {
     "data": {
      "text/plain": [
       "2021"
      ]
     },
     "execution_count": 122,
     "metadata": {},
     "output_type": "execute_result"
    }
   ],
   "source": [
    "fecha.year"
   ]
  },
  {
   "cell_type": "code",
   "execution_count": 128,
   "metadata": {},
   "outputs": [],
   "source": [
    "fecha1=datetime.date(2021,4,25)\n",
    "fecha2=datetime.date(2021,4,20)\n",
    "\n",
    "ahora=fecha1-fecha2"
   ]
  },
  {
   "cell_type": "code",
   "execution_count": 129,
   "metadata": {},
   "outputs": [
    {
     "data": {
      "text/plain": [
       "datetime.timedelta(days=5)"
      ]
     },
     "execution_count": 129,
     "metadata": {},
     "output_type": "execute_result"
    }
   ],
   "source": [
    "ahora"
   ]
  },
  {
   "cell_type": "code",
   "execution_count": 130,
   "metadata": {},
   "outputs": [],
   "source": [
    "from datetime import timedelta\n",
    "tiempo=fecha1+2*timedelta(days=9) #Puedo operar con el timedelta"
   ]
  },
  {
   "cell_type": "code",
   "execution_count": 131,
   "metadata": {},
   "outputs": [
    {
     "data": {
      "text/plain": [
       "datetime.date(2021, 5, 13)"
      ]
     },
     "execution_count": 131,
     "metadata": {},
     "output_type": "execute_result"
    }
   ],
   "source": [
    "tiempo"
   ]
  },
  {
   "cell_type": "markdown",
   "metadata": {},
   "source": [
    "# Ejercicio en clase\n",
    "\n",
    "Simular de forma libre la generación del certificado de vacunación documento almacenado en con el número de documento del\n",
    "paciente con una fecha, e indicar cuántos días tiene para la segunda dosis en 21 días:\n"
   ]
  },
  {
   "cell_type": "code",
   "execution_count": 222,
   "metadata": {
    "scrolled": true
   },
   "outputs": [
    {
     "name": "stdout",
     "output_type": "stream",
     "text": [
      "200\n"
     ]
    }
   ],
   "source": [
    "#Instrucciones para crear el archivo\n",
    "import os\n",
    "import datetime\n",
    "directorio_actual=os.getcwd()\n",
    "ruta=os.path.join(directorio_actual,\"pacientes\")\n",
    "cedula=int(input())\n",
    "fecha_actual=datetime.date.today()\n",
    "os.makedirs(ruta,exist_ok = True)\n",
    "archivo=str(cedula)+\".txt\"\n",
    "\n",
    "with open(os.path.join(ruta, archivo), 'w') as fp:\n",
    "    pass\n",
    "    fp.write(str(fecha_actual))\n"
   ]
  },
  {
   "cell_type": "code",
   "execution_count": 224,
   "metadata": {},
   "outputs": [
    {
     "data": {
      "text/plain": [
       "'C:\\\\Users\\\\HP\\\\Documents\\\\MINTIC 2022\\\\pacientes'"
      ]
     },
     "execution_count": 224,
     "metadata": {},
     "output_type": "execute_result"
    }
   ],
   "source": [
    "ruta"
   ]
  },
  {
   "cell_type": "raw",
   "metadata": {},
   "source": []
  },
  {
   "cell_type": "code",
   "execution_count": 225,
   "metadata": {},
   "outputs": [
    {
     "name": "stdout",
     "output_type": "stream",
     "text": [
      "200\n",
      "Su fecha de vacunación fue: b'2021-05-25' debe vacunarse para segunda dosis en: 2021-06-15\n"
     ]
    }
   ],
   "source": [
    "#Instrucciones de consulta del archivo\n",
    "\n",
    "consulta=input()\n",
    "path = ruta + \"\\\\\"+consulta+\".txt\"\n",
    "fd = os.open(path, os.O_RDONLY)\n",
    "fecha_v = os.read(fd,50)\n",
    "fecha_v2=fecha_v.decode(\"utf-8\") \n",
    "fecha_v2 = datetime.datetime.strptime(fecha_v2, '%Y-%m-%d')\n",
    "fecha_dosis=fecha+timedelta(days=21) \n",
    "print(\"Su fecha de vacunación fue: \" +str(fecha_v)+\" debe vacunarse para segunda dosis en: \" + str(fecha_dosis) )"
   ]
  },
  {
   "cell_type": "code",
   "execution_count": 212,
   "metadata": {},
   "outputs": [
    {
     "data": {
      "text/plain": [
       "datetime.datetime(2021, 6, 15, 0, 0)"
      ]
     },
     "execution_count": 212,
     "metadata": {},
     "output_type": "execute_result"
    }
   ],
   "source": [
    "fecha_dosis"
   ]
  },
  {
   "cell_type": "code",
   "execution_count": 206,
   "metadata": {},
   "outputs": [
    {
     "data": {
      "text/plain": [
       "datetime.datetime"
      ]
     },
     "execution_count": 206,
     "metadata": {},
     "output_type": "execute_result"
    }
   ],
   "source": [
    "type(fecha)"
   ]
  },
  {
   "cell_type": "code",
   "execution_count": 207,
   "metadata": {},
   "outputs": [
    {
     "data": {
      "text/plain": [
       "datetime.datetime(2021, 5, 25, 0, 0)"
      ]
     },
     "execution_count": 207,
     "metadata": {},
     "output_type": "execute_result"
    }
   ],
   "source": [
    "fecha"
   ]
  },
  {
   "cell_type": "code",
   "execution_count": 183,
   "metadata": {},
   "outputs": [
    {
     "data": {
      "text/plain": [
       "'C:\\\\Users\\\\HP\\\\Documents\\\\MINTIC 2022\\\\pacientes\\\\100.txt'"
      ]
     },
     "execution_count": 183,
     "metadata": {},
     "output_type": "execute_result"
    }
   ],
   "source": [
    "path"
   ]
  },
  {
   "cell_type": "code",
   "execution_count": 176,
   "metadata": {},
   "outputs": [
    {
     "name": "stdout",
     "output_type": "stream",
     "text": [
      "C:\\Users\\HP\\Documents\\MINTIC 2022\\pacientes\n"
     ]
    }
   ],
   "source": [
    "print(ruta)"
   ]
  },
  {
   "cell_type": "code",
   "execution_count": 164,
   "metadata": {},
   "outputs": [
    {
     "data": {
      "text/plain": [
       "100"
      ]
     },
     "execution_count": 164,
     "metadata": {},
     "output_type": "execute_result"
    }
   ],
   "source": [
    "cedula"
   ]
  },
  {
   "cell_type": "code",
   "execution_count": null,
   "metadata": {},
   "outputs": [],
   "source": []
  },
  {
   "cell_type": "code",
   "execution_count": 157,
   "metadata": {},
   "outputs": [
    {
     "name": "stdout",
     "output_type": "stream",
     "text": [
      "C:\\Users\\HP\\Documents\\MINTIC 2022\\pacientes\n"
     ]
    }
   ],
   "source": [
    "print(ruta)"
   ]
  },
  {
   "cell_type": "markdown",
   "metadata": {},
   "source": [
    "#Auto reto funciones\n",
    "\n",
    "In a particular jurisdiction, taxi fares consist of a base fare of $4.00, plus  $0.25 for every 140 meters traveled. Write a function that takes the distance traveled (in kilometers) as its only parameter and returns the total fare as its only result. Write a main program that demonstrates the function."
   ]
  },
  {
   "cell_type": "code",
   "execution_count": 7,
   "metadata": {},
   "outputs": [
    {
     "name": "stdout",
     "output_type": "stream",
     "text": [
      "3\n",
      "la distancia recorrida fue: 3.0 km, la tarifa a pagar es: 9.36\n"
     ]
    }
   ],
   "source": [
    "#taxi fares\n",
    "distancia=float(input())# en kilometros\n",
    "\n",
    "def calculo(kms):\n",
    "    tarifa=4+(kms/0.14)*0.25\n",
    "    return tarifa\n",
    "\n",
    "costo=calculo(distancia)\n",
    "print(\"la distancia recorrida fue: \" + str(distancia)+\" km, la tarifa a pagar es: \" + str(round(costo,2)))"
   ]
  },
  {
   "cell_type": "markdown",
   "metadata": {},
   "source": [
    "# Link zoom\n",
    "https://us02web.zoom.us/j/9418271933"
   ]
  },
  {
   "cell_type": "markdown",
   "metadata": {},
   "source": [
    "# Ejercicio de repaso uso de funciones predefinidas"
   ]
  },
  {
   "cell_type": "markdown",
   "metadata": {},
   "source": [
    "Cree un programa que utilice el generador de números aleatorios de Python para simular lanzar una moneda varias veces. La moneda simulada debe ser justa, lo que significa que la probabilidad de que salga cara es igual a la probabilidad de que salga sello. Su programa debería lanzar monedas simuladas hasta que ocurran 3 caras consecutivas o 3 sellos consecutivos. Muestre una H cada vez que el resultado sea cara y una T cada vez que el resultado sea sello, con todos los resultados mostrados en la misma línea. Luego muestre el número de lanzamientos necesarios para alcanzar 3 lanzamientos consecutivos con el mismo resultado. Cuando se ejecute su programa, debe realizar la simulación 10 veces e informar el número promedio de lanzamientos necesarios.\n",
    "La salida de muestra se muestra a continuación (flips=lanzamientos):\n"
   ]
  },
  {
   "cell_type": "code",
   "execution_count": 1,
   "metadata": {},
   "outputs": [
    {
     "data": {
      "image/png": "[encoded data removed]",
      "text/plain": [
       "<IPython.core.display.Image object>"
      ]
     },
     "execution_count": 1,
     "metadata": {},
     "output_type": "execute_result"
    }
   ],
   "source": [
    "from IPython import display\n",
    "display.Image(\"./imagencarasello.png\") "
   ]
  },
  {
   "cell_type": "code",
   "execution_count": null,
   "metadata": {},
   "outputs": [],
   "source": []
  }
 ],
 "metadata": {
  "kernelspec": {
   "display_name": "Python 3",
   "language": "python",
   "name": "python3"
  },
  "language_info": {
   "codemirror_mode": {
    "name": "ipython",
    "version": 3
   },
   "file_extension": ".py",
   "mimetype": "text/x-python",
   "name": "python",
   "nbconvert_exporter": "python",
   "pygments_lexer": "ipython3",
   "version": "3.9.5"
  }
 },
 "nbformat": 4,
 "nbformat_minor": 4
}
